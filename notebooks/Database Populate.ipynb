{
 "cells": [
  {
   "cell_type": "code",
   "execution_count": 49,
   "metadata": {},
   "outputs": [],
   "source": [
    "# load in libraries\n",
    "import os\n",
    "import json\n",
    "import psycopg2\n",
    "import pandas as pd\n",
    "import pickle\n",
    "pd.set_option('display.max_columns', None)\n",
    "pd.set_option('display.max_rows', None)\n",
    "\n",
    "from pandas import json_normalize "
   ]
  },
  {
   "cell_type": "code",
   "execution_count": 50,
   "metadata": {},
   "outputs": [],
   "source": [
    "# load in env variables\n",
    "db_host = os.environ['HEROKU_DB_HOST']\n",
    "db_name = os.environ['HEROKU_DB']\n",
    "db_user = os.environ['HEROKU_DB_USER']\n",
    "db_password = os.environ['HEROKU_DB_PASSWORD']\n",
    "\n",
    "# connect to database\n",
    "conn = psycopg2.connect(database=db_name, user=db_user, password=db_password, host=db_host, port=\"5432\")\n",
    "cur = conn.cursor()"
   ]
  },
  {
   "cell_type": "code",
   "execution_count": 51,
   "metadata": {},
   "outputs": [],
   "source": [
    "# import model\n",
    "with open('../models/nfl_predictor_rf.pkl', 'rb') as f:\n",
    "    model = pickle.load(f)"
   ]
  },
  {
   "cell_type": "code",
   "execution_count": 52,
   "metadata": {},
   "outputs": [],
   "source": [
    "# import gamedata csv\n",
    "games_dataframe_data = {}\n",
    "seasons = [2017,2018,2019,2020]\n",
    "# loop through directory \n",
    "for season in seasons:\n",
    "    # append regular saeason data\n",
    "    df_reg_season = pd.read_csv('./data/custom_games_by_season/{0}_data.csv'.format(season)) \n",
    "    games_dataframe_data[season] = df_reg_season\n",
    "    "
   ]
  },
  {
   "cell_type": "code",
   "execution_count": 53,
   "metadata": {},
   "outputs": [],
   "source": [
    "# let model loose to make predictions on all games for each season \n",
    "selected_features = ['AwayAverage','AwayFirstDowns', 'AwayTime', 'AwayThirdDowns', 'HomeAverage','HomeFirstDowns', 'HomeTime', 'HomeThirdDowns']"
   ]
  },
  {
   "cell_type": "code",
   "execution_count": 54,
   "metadata": {},
   "outputs": [],
   "source": [
    "for season, data in games_dataframe_data.items():\n",
    "    # get values we want\n",
    "    values = data[selected_features].values\n",
    "    \n",
    "    # make predictions\n",
    "    predictions = model.predict(values)\n",
    "    \n",
    "    for index, row in data.iterrows():\n",
    "        data.at[index, 'PredictHomeTeamWin'] = predictions[index]\n",
    "        \n",
    "    # save updated data in csv\n",
    "    data.to_csv('./data/custom_games_by_season/{0}_data.csv'.format(season), header=True,  encoding='utf-8', index=False) \n",
    "\n",
    "    games_dataframe_data[season] = data\n",
    "    \n",
    "    "
   ]
  },
  {
   "cell_type": "code",
   "execution_count": 55,
   "metadata": {},
   "outputs": [],
   "source": [
    "# insert 2020 team custom data into database\n",
    "df_reg_season = pd.read_csv('./data/custom_season_team_data/2020_data.csv') \n",
    "\n",
    "data = df_reg_season.to_json(orient=\"index\")\n",
    "\n",
    "# create the SQL string\n",
    "sql_string = 'INSERT INTO team_stats(year, stats) VALUES (%s, %s)'\n",
    "cur.execute(sql_string, (2020,json.dumps(data)))\n",
    "conn.commit()\n"
   ]
  },
  {
   "cell_type": "code",
   "execution_count": 56,
   "metadata": {},
   "outputs": [],
   "source": [
    "# insert each dataframe into database\n",
    "for season in seasons:\n",
    "    data = games_dataframe_data[season].to_json(orient=\"index\")\n",
    "    \n",
    "    # create the SQL string\n",
    "    sql_string = 'INSERT INTO games_data(year, games) VALUES (%s, %s)'\n",
    "    cur.execute(sql_string, (season,json.dumps(data)))\n",
    "    conn.commit()\n",
    "\n",
    "conn.close()"
   ]
  },
  {
   "cell_type": "code",
   "execution_count": null,
   "metadata": {},
   "outputs": [],
   "source": []
  }
 ],
 "metadata": {
  "kernelspec": {
   "display_name": "Python 3",
   "language": "python",
   "name": "python3"
  },
  "language_info": {
   "codemirror_mode": {
    "name": "ipython",
    "version": 3
   },
   "file_extension": ".py",
   "mimetype": "text/x-python",
   "name": "python",
   "nbconvert_exporter": "python",
   "pygments_lexer": "ipython3",
   "version": "3.8.3rc1"
  }
 },
 "nbformat": 4,
 "nbformat_minor": 4
}
