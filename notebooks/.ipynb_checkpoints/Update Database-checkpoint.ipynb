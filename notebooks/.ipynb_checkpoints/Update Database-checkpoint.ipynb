{
 "cells": [
  {
   "cell_type": "code",
   "execution_count": 83,
   "metadata": {},
   "outputs": [],
   "source": [
    "# load libraries\n",
    "import os\n",
    "import json\n",
    "import psycopg2\n",
    "import pandas as pd\n",
    "import pickle\n",
    "import base64\n",
    "import csv\n",
    "from github import Github\n",
    "pd.set_option('display.max_columns', None)\n",
    "pd.set_option('display.max_rows', None)\n",
    "\n",
    "import requests"
   ]
  },
  {
   "cell_type": "code",
   "execution_count": 84,
   "metadata": {},
   "outputs": [],
   "source": [
    "# get api key\n",
    "api_key = os.environ['SPORTS_DATA_IO_API']\n",
    "api_key_2 = os.environ['SPORTS_DATA_IO_API_2']\n",
    "github_token = os.environ['GITHUB_TOKEN']"
   ]
  },
  {
   "cell_type": "code",
   "execution_count": 85,
   "metadata": {},
   "outputs": [],
   "source": [
    "# import model\n",
    "with open('../models/nfl_predictor_rf.pkl', 'rb') as f:\n",
    "    model = pickle.load(f)"
   ]
  },
  {
   "cell_type": "code",
   "execution_count": 86,
   "metadata": {},
   "outputs": [],
   "source": [
    "# load in env variables\n",
    "db_host = os.environ['HEROKU_DB_HOST']\n",
    "db_name = os.environ['HEROKU_DB']\n",
    "db_user = os.environ['HEROKU_DB_USER']\n",
    "db_password = os.environ['HEROKU_DB_PASSWORD']\n",
    "\n",
    "# connect to database\n",
    "conn = psycopg2.connect(database=db_name, user=db_user, password=db_password, host=db_host, port=\"5432\")\n",
    "cur = conn.cursor()"
   ]
  },
  {
   "cell_type": "code",
   "execution_count": 87,
   "metadata": {},
   "outputs": [],
   "source": [
    "# get both dataframes we need from api\n",
    "response = requests.get('https://api.sportsdata.io/v3/nfl/scores/json/CurrentWeek?key={0}'.format(api_key_2))\n",
    "week = response.json()\n",
    "\n",
    "# season stats per team\n",
    "response = requests.get('https://api.sportsdata.io/api/nfl/odds/json/ScoresByWeek/2020REG/{0}?key={1}'.format(week, api_key))\n",
    "current_games = pd.DataFrame.from_dict(response.json())\n",
    "\n",
    "\n",
    "\n",
    "# season stats per team\n",
    "response = requests.get('https://api.sportsdata.io/api/nfl/odds/json/TeamSeasonStats/2020REG?key={0}'.format(api_key))\n",
    "team_stats_2020 = pd.DataFrame.from_dict(response.json())"
   ]
  },
  {
   "cell_type": "code",
   "execution_count": 120,
   "metadata": {},
   "outputs": [],
   "source": [
    "# bring in the database dataframes\n",
    "# create the SQL string for games data \n",
    "sql_string = 'SELECT games from games_data where year = 2020'\n",
    "cur.execute(sql_string)\n",
    "db_games_data = cur.fetchone()[0]\n",
    "db_games_data = pd.read_json(db_games_data).T\n",
    "\n",
    "\n",
    "# create the SQL string for team stats data \n",
    "sql_string = 'SELECT stats from team_stats where year = 2020'\n",
    "cur.execute(sql_string)\n",
    "db_team_stats = cur.fetchone()[0]\n",
    "db_team_stats = pd.read_json(db_team_stats).T\n"
   ]
  },
  {
   "cell_type": "code",
   "execution_count": 89,
   "metadata": {},
   "outputs": [],
   "source": [
    "# update year team stats\n",
    "for index, row in team_stats_2020.iterrows():\n",
    "    db_team_stats.at[index, 'avg_up_to_week_{0}'.format(week)] = row.Score / row.Games\n",
    "    db_team_stats.at[index, 'first_downs_up_to_week_{0}'.format(week)] = row.FirstDowns / row.Games\n",
    "    db_team_stats.at[index, 'third_down_percentage_up_to_week_{0}'.format(week)] = row.ThirdDownPercentage\n",
    "    \n",
    "    # convert string time of possession to float\n",
    "    top = row.TimeOfPossession.split(':')\n",
    "    top = float('{0}.{1}'.format(top[0],top[1]))\n",
    "    db_team_stats.at[index, 'time_of_possession_up_to_week_{0}'.format(week)] = top\n",
    "    \n",
    "    \n",
    "    \n",
    "# update database for team stats\n",
    "data = db_team_stats.to_json(orient=\"index\")\n",
    "sql_string = 'UPDATE team_stats SET stats = %s WHERE year = 2020'\n",
    "cur.execute(sql_string, (json.dumps(data),))\n",
    "conn.commit()\n"
   ]
  },
  {
   "cell_type": "code",
   "execution_count": 78,
   "metadata": {},
   "outputs": [],
   "source": [
    "# update this weeks games with stats\n",
    "current_games = current_games[['Week', 'AwayTeam', 'HomeTeam', 'AwayScore', 'HomeScore']]\n",
    "\n",
    "db_team_stats = db_team_stats.set_index('Team')\n",
    "\n",
    "for index, row in current_games.iterrows():\n",
    "    current_games.at[index,'HomeAverage'] = db_team_stats.loc[row.HomeTeam,'avg_up_to_week_{0}'.format(week)]\n",
    "    current_games.at[index,'HomeFirstDowns'] = db_team_stats.loc[row.HomeTeam,'first_downs_up_to_week_{0}'.format(week)]\n",
    "    current_games.at[index,'HomeTime'] = db_team_stats.loc[row.HomeTeam,'time_of_possession_up_to_week_{0}'.format(week)]\n",
    "    current_games.at[index,'HomeThirdDowns'] = db_team_stats.loc[row.HomeTeam,'third_down_percentage_up_to_week_{0}'.format(week)]\n",
    "\n",
    "    # team 2 stats\n",
    "    current_games.at[index,'AwayAverage'] = db_team_stats.loc[row.AwayTeam,'avg_up_to_week_{0}'.format(week)]\n",
    "    current_games.at[index,'AwayFirstDowns'] = db_team_stats.loc[row.AwayTeam,'first_downs_up_to_week_{0}'.format(week)]\n",
    "    current_games.at[index,'AwayTime'] = db_team_stats.loc[row.AwayTeam,'time_of_possession_up_to_week_{0}'.format(week)]\n",
    "    current_games.at[index,'AwayThirdDowns'] = db_team_stats.loc[row.AwayTeam,'third_down_percentage_up_to_week_{0}'.format(week)]\n",
    "\n",
    "# let model make predictions on this weeks games\n",
    "selected_features = ['AwayAverage','AwayFirstDowns', 'AwayTime', 'AwayThirdDowns', 'HomeAverage','HomeFirstDowns', 'HomeTime', 'HomeThirdDowns']\n",
    "# get values we want\n",
    "values = current_games[selected_features].values\n",
    "\n",
    "# make predictions\n",
    "predictions = model.predict(values)\n",
    "\n",
    "for index, row in current_games.iterrows():\n",
    "    current_games.at[index, 'PredictHomeTeamWin'] = predictions[index]\n",
    "    \n",
    "# fill scores as games arent played yet\n",
    "current_games = current_games.fillna(-1)\n",
    "    \n",
    "# append to all games\n",
    "db_games_data = db_games_data.append(current_games, ignore_index=True)\n",
    "\n",
    "db_games_data.to_csv('./2020_data.csv', header=True,  encoding='utf-8', index=False) \n",
    "\n",
    "\n",
    "# update database for season games\n",
    "data = db_games_data.to_json(orient=\"index\")\n",
    "sql_string = 'UPDATE games_data SET games = %s WHERE year = 2020'\n",
    "cur.execute(sql_string, (json.dumps(data),))\n",
    "conn.commit()"
   ]
  },
  {
   "cell_type": "code",
   "execution_count": 79,
   "metadata": {},
   "outputs": [
    {
     "data": {
      "text/plain": [
       "{'commit': Commit(sha=\"204c60b4fef08f2646d23999f2ddef9b7174de71\"),\n",
       " 'content': ContentFile(path=\"custom_games_by_season/2020_data.csv\")}"
      ]
     },
     "execution_count": 79,
     "metadata": {},
     "output_type": "execute_result"
    }
   ],
   "source": [
    "# write csv to github for the sake of it\n",
    "g = Github(github_token)\n",
    "\n",
    "# get csv \n",
    "with open('./2020_data.csv', newline='') as csvfile:\n",
    "    data = csvfile.read()\n",
    "\n",
    "\n",
    "\n",
    "# get project and update file\n",
    "repo = g.get_repo('Sports-Outcome-Analyzer/nfl_sports_analyzer')\n",
    "\n",
    "contents = repo.get_contents(\"custom_games_by_season/2020_data.csv\", ref=\"development\")\n",
    "\n",
    "repo.update_file(contents.path, \"update csv file with new games\", data, contents.sha, branch=\"development\")\n",
    "\n"
   ]
  }
 ],
 "metadata": {
  "kernelspec": {
   "display_name": "Python 3",
   "language": "python",
   "name": "python3"
  },
  "language_info": {
   "codemirror_mode": {
    "name": "ipython",
    "version": 3
   },
   "file_extension": ".py",
   "mimetype": "text/x-python",
   "name": "python",
   "nbconvert_exporter": "python",
   "pygments_lexer": "ipython3",
   "version": "3.8.3rc1"
  }
 },
 "nbformat": 4,
 "nbformat_minor": 4
}
