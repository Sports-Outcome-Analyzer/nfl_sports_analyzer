{
 "cells": [
  {
   "cell_type": "markdown",
   "metadata": {},
   "source": [
    "# Notes regarding creation of sports betting predictor\n",
    "\n",
    "## Context\n",
    "- Using machine learning to make accurate predictions on sports games\n",
    "- Models will be based on data of each teams previous games, player performance, news, seasonal performance, past matchups, etc\n",
    "- This is a classic classification problem that has not had great results historically\n",
    "- We can label this as a home team winning or not as opposed to which team will win\n",
    "- Will be trained on past seasons data along with its final (home team winnning yes or no)\n",
    "\n",
    "\n",
    "\n",
    "## Burning Questions (we should resolve these by 11/18)\n",
    "- How do we narrow down what data we need to include?\n",
    "- What challenges will arise?\n",
    "- What classification model should be used?\n",
    "- Will more or less attributes be better?\n",
    "\n",
    "\n",
    "## Data Notes\n",
    "- Examine specific stats/attributes of a player to determine if it will effect match outcome (Ex: a players volume in recent games == success)\n",
    "- How player injuries will effect any data we find\n",
    "\n",
    "### Feature Engineering Score Data\n",
    "- [x] Average Score for current season\n",
    "- [x] Average over last n games\n",
    "- [ ] Avg Home vs Avg Away scores\n",
    "- [ ] Average in previous matchups head to head (maybe last 2-3 games, has to be recent)\n",
    "\n",
    "### Feature Engineering Season Data\n",
    "- [X] Wins to date\n",
    "- [X] Avg turnovers per game (we can calculate this)\n",
    "- [X] Avg 1st downs per game (we can calculate this)\n",
    "- [X] Avg Time of possession per game \n",
    "- [ ] Avg point differential\n",
    "- [X] 3rd down effeciency (we can calculate this)\n",
    "\n",
    "\n",
    "## Classification Types\n",
    "- Logistic Regression \n",
    "- Neural Net\n",
    "- Decision Tree\n",
    "- Random Forest\n",
    "- Support Vector Machine\n",
    "\n",
    "\n",
    "## Thoughts\n",
    "- Maybe develop a rating system to assign each team a grade/score and see which one has a higher rating (don't know if this will be ML)\n",
    "- Compare against real scores following a game to determine accuracy"
   ]
  },
  {
   "cell_type": "code",
   "execution_count": null,
   "metadata": {},
   "outputs": [],
   "source": []
  }
 ],
 "metadata": {
  "kernelspec": {
   "display_name": "Python 3",
   "language": "python",
   "name": "python3"
  },
  "language_info": {
   "codemirror_mode": {
    "name": "ipython",
    "version": 3
   },
   "file_extension": ".py",
   "mimetype": "text/x-python",
   "name": "python",
   "nbconvert_exporter": "python",
   "pygments_lexer": "ipython3",
   "version": "3.8.3rc1"
  }
 },
 "nbformat": 4,
 "nbformat_minor": 4
}
